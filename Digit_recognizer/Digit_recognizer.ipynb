{
 "cells": [
  {
   "cell_type": "code",
   "execution_count": null,
   "id": "f379b68b-7ca9-4a1e-85e1-0215f28c3f51",
   "metadata": {},
   "outputs": [
    {
     "name": "stdout",
     "output_type": "stream",
     "text": [
      "WARNING:tensorflow:From C:\\Users\\Petr\\AppData\\Local\\Programs\\Python\\Python310\\lib\\site-packages\\keras\\src\\losses.py:2976: The name tf.losses.sparse_softmax_cross_entropy is deprecated. Please use tf.compat.v1.losses.sparse_softmax_cross_entropy instead.\n",
      "\n"
     ]
    },
    {
     "name": "stderr",
     "output_type": "stream",
     "text": [
      "WARNING:root:TensorFlow Decision Forests 1.8.1 is compatible with the following TensorFlow Versions: ['2.15.0']. However, TensorFlow 2.15.1 was detected. This can cause issues with the TF API and symbols in the custom C++ ops. See the TF and TF-DF compatibility table at https://github.com/tensorflow/decision-forests/blob/main/documentation/known_issues.md#compatibility-table.\n"
     ]
    }
   ],
   "source": [
    "import pandas as pd\n",
    "import numpy as np\n",
    "import tensorflow as tf\n",
    "from tensorflow.keras.utils import to_categorical\n",
    "import matplotlib.pyplot as plt"
   ]
  },
  {
   "cell_type": "code",
   "execution_count": 2,
   "id": "35c043f6-7cf6-460e-98a2-f65bf150c3c9",
   "metadata": {},
   "outputs": [
    {
     "data": {
      "text/html": [
       "<div>\n",
       "<style scoped>\n",
       "    .dataframe tbody tr th:only-of-type {\n",
       "        vertical-align: middle;\n",
       "    }\n",
       "\n",
       "    .dataframe tbody tr th {\n",
       "        vertical-align: top;\n",
       "    }\n",
       "\n",
       "    .dataframe thead th {\n",
       "        text-align: right;\n",
       "    }\n",
       "</style>\n",
       "<table border=\"1\" class=\"dataframe\">\n",
       "  <thead>\n",
       "    <tr style=\"text-align: right;\">\n",
       "      <th></th>\n",
       "      <th>label</th>\n",
       "      <th>pixel0</th>\n",
       "      <th>pixel1</th>\n",
       "      <th>pixel2</th>\n",
       "      <th>pixel3</th>\n",
       "      <th>pixel4</th>\n",
       "      <th>pixel5</th>\n",
       "      <th>pixel6</th>\n",
       "      <th>pixel7</th>\n",
       "      <th>pixel8</th>\n",
       "      <th>...</th>\n",
       "      <th>pixel774</th>\n",
       "      <th>pixel775</th>\n",
       "      <th>pixel776</th>\n",
       "      <th>pixel777</th>\n",
       "      <th>pixel778</th>\n",
       "      <th>pixel779</th>\n",
       "      <th>pixel780</th>\n",
       "      <th>pixel781</th>\n",
       "      <th>pixel782</th>\n",
       "      <th>pixel783</th>\n",
       "    </tr>\n",
       "  </thead>\n",
       "  <tbody>\n",
       "    <tr>\n",
       "      <th>0</th>\n",
       "      <td>1</td>\n",
       "      <td>0</td>\n",
       "      <td>0</td>\n",
       "      <td>0</td>\n",
       "      <td>0</td>\n",
       "      <td>0</td>\n",
       "      <td>0</td>\n",
       "      <td>0</td>\n",
       "      <td>0</td>\n",
       "      <td>0</td>\n",
       "      <td>...</td>\n",
       "      <td>0</td>\n",
       "      <td>0</td>\n",
       "      <td>0</td>\n",
       "      <td>0</td>\n",
       "      <td>0</td>\n",
       "      <td>0</td>\n",
       "      <td>0</td>\n",
       "      <td>0</td>\n",
       "      <td>0</td>\n",
       "      <td>0</td>\n",
       "    </tr>\n",
       "    <tr>\n",
       "      <th>1</th>\n",
       "      <td>0</td>\n",
       "      <td>0</td>\n",
       "      <td>0</td>\n",
       "      <td>0</td>\n",
       "      <td>0</td>\n",
       "      <td>0</td>\n",
       "      <td>0</td>\n",
       "      <td>0</td>\n",
       "      <td>0</td>\n",
       "      <td>0</td>\n",
       "      <td>...</td>\n",
       "      <td>0</td>\n",
       "      <td>0</td>\n",
       "      <td>0</td>\n",
       "      <td>0</td>\n",
       "      <td>0</td>\n",
       "      <td>0</td>\n",
       "      <td>0</td>\n",
       "      <td>0</td>\n",
       "      <td>0</td>\n",
       "      <td>0</td>\n",
       "    </tr>\n",
       "    <tr>\n",
       "      <th>2</th>\n",
       "      <td>1</td>\n",
       "      <td>0</td>\n",
       "      <td>0</td>\n",
       "      <td>0</td>\n",
       "      <td>0</td>\n",
       "      <td>0</td>\n",
       "      <td>0</td>\n",
       "      <td>0</td>\n",
       "      <td>0</td>\n",
       "      <td>0</td>\n",
       "      <td>...</td>\n",
       "      <td>0</td>\n",
       "      <td>0</td>\n",
       "      <td>0</td>\n",
       "      <td>0</td>\n",
       "      <td>0</td>\n",
       "      <td>0</td>\n",
       "      <td>0</td>\n",
       "      <td>0</td>\n",
       "      <td>0</td>\n",
       "      <td>0</td>\n",
       "    </tr>\n",
       "    <tr>\n",
       "      <th>3</th>\n",
       "      <td>4</td>\n",
       "      <td>0</td>\n",
       "      <td>0</td>\n",
       "      <td>0</td>\n",
       "      <td>0</td>\n",
       "      <td>0</td>\n",
       "      <td>0</td>\n",
       "      <td>0</td>\n",
       "      <td>0</td>\n",
       "      <td>0</td>\n",
       "      <td>...</td>\n",
       "      <td>0</td>\n",
       "      <td>0</td>\n",
       "      <td>0</td>\n",
       "      <td>0</td>\n",
       "      <td>0</td>\n",
       "      <td>0</td>\n",
       "      <td>0</td>\n",
       "      <td>0</td>\n",
       "      <td>0</td>\n",
       "      <td>0</td>\n",
       "    </tr>\n",
       "    <tr>\n",
       "      <th>4</th>\n",
       "      <td>0</td>\n",
       "      <td>0</td>\n",
       "      <td>0</td>\n",
       "      <td>0</td>\n",
       "      <td>0</td>\n",
       "      <td>0</td>\n",
       "      <td>0</td>\n",
       "      <td>0</td>\n",
       "      <td>0</td>\n",
       "      <td>0</td>\n",
       "      <td>...</td>\n",
       "      <td>0</td>\n",
       "      <td>0</td>\n",
       "      <td>0</td>\n",
       "      <td>0</td>\n",
       "      <td>0</td>\n",
       "      <td>0</td>\n",
       "      <td>0</td>\n",
       "      <td>0</td>\n",
       "      <td>0</td>\n",
       "      <td>0</td>\n",
       "    </tr>\n",
       "  </tbody>\n",
       "</table>\n",
       "<p>5 rows × 785 columns</p>\n",
       "</div>"
      ],
      "text/plain": [
       "   label  pixel0  pixel1  pixel2  pixel3  pixel4  pixel5  pixel6  pixel7  \\\n",
       "0      1       0       0       0       0       0       0       0       0   \n",
       "1      0       0       0       0       0       0       0       0       0   \n",
       "2      1       0       0       0       0       0       0       0       0   \n",
       "3      4       0       0       0       0       0       0       0       0   \n",
       "4      0       0       0       0       0       0       0       0       0   \n",
       "\n",
       "   pixel8  ...  pixel774  pixel775  pixel776  pixel777  pixel778  pixel779  \\\n",
       "0       0  ...         0         0         0         0         0         0   \n",
       "1       0  ...         0         0         0         0         0         0   \n",
       "2       0  ...         0         0         0         0         0         0   \n",
       "3       0  ...         0         0         0         0         0         0   \n",
       "4       0  ...         0         0         0         0         0         0   \n",
       "\n",
       "   pixel780  pixel781  pixel782  pixel783  \n",
       "0         0         0         0         0  \n",
       "1         0         0         0         0  \n",
       "2         0         0         0         0  \n",
       "3         0         0         0         0  \n",
       "4         0         0         0         0  \n",
       "\n",
       "[5 rows x 785 columns]"
      ]
     },
     "execution_count": 2,
     "metadata": {},
     "output_type": "execute_result"
    }
   ],
   "source": [
    "df_train = pd.read_csv('train.csv')\n",
    "df_test = pd.read_csv('test.csv')\n",
    "df_train.head()"
   ]
  },
  {
   "cell_type": "code",
   "execution_count": 3,
   "id": "2fbd391e-186d-486a-925b-9b738085ce27",
   "metadata": {},
   "outputs": [
    {
     "data": {
      "text/plain": [
       "array([[0., 0., 0., ..., 0., 0., 0.],\n",
       "       [0., 0., 0., ..., 0., 0., 0.],\n",
       "       [0., 0., 0., ..., 0., 0., 0.],\n",
       "       ...,\n",
       "       [0., 0., 0., ..., 0., 0., 0.],\n",
       "       [0., 0., 0., ..., 0., 0., 0.],\n",
       "       [0., 0., 0., ..., 0., 0., 0.]])"
      ]
     },
     "execution_count": 3,
     "metadata": {},
     "output_type": "execute_result"
    }
   ],
   "source": [
    "X_train = df_train.drop(columns='label',axis=1).values/255.0\n",
    "X_train"
   ]
  },
  {
   "cell_type": "code",
   "execution_count": 4,
   "id": "fab3006f-69db-4b48-a46d-9f5da37df447",
   "metadata": {},
   "outputs": [
    {
     "data": {
      "text/plain": [
       "array([1, 0, 1, ..., 7, 6, 9], dtype=int64)"
      ]
     },
     "execution_count": 4,
     "metadata": {},
     "output_type": "execute_result"
    }
   ],
   "source": [
    "y_train = df_train['label'].values\n",
    "y_train"
   ]
  },
  {
   "cell_type": "code",
   "execution_count": 5,
   "id": "28221a4e-ffe5-4c03-9fd0-71125a7e4cd4",
   "metadata": {},
   "outputs": [
    {
     "data": {
      "text/plain": [
       "array([[0., 0., 0., ..., 0., 0., 0.],\n",
       "       [0., 0., 0., ..., 0., 0., 0.],\n",
       "       [0., 0., 0., ..., 0., 0., 0.],\n",
       "       ...,\n",
       "       [0., 0., 0., ..., 0., 0., 0.],\n",
       "       [0., 0., 0., ..., 0., 0., 0.],\n",
       "       [0., 0., 0., ..., 0., 0., 0.]])"
      ]
     },
     "execution_count": 5,
     "metadata": {},
     "output_type": "execute_result"
    }
   ],
   "source": [
    "X_test = df_test.values/255.0\n",
    "X_test"
   ]
  },
  {
   "cell_type": "code",
   "execution_count": 6,
   "id": "73bf8baa-e5d7-490a-959d-8aacf13c9ca1",
   "metadata": {},
   "outputs": [],
   "source": [
    "X_train = X_train.reshape(-1,28,28,1)\n",
    "X_test = X_test.reshape(-1,28,28,1)"
   ]
  },
  {
   "cell_type": "code",
   "execution_count": 7,
   "id": "8c34b3c9-3844-4430-8b67-7a7022c51b2b",
   "metadata": {},
   "outputs": [],
   "source": [
    "y_train = to_categorical(y_train, num_classes=10)"
   ]
  },
  {
   "cell_type": "code",
   "execution_count": 8,
   "id": "60820969-2fc7-45f1-90b3-48a517a9528f",
   "metadata": {},
   "outputs": [
    {
     "name": "stdout",
     "output_type": "stream",
     "text": [
      "WARNING:tensorflow:From C:\\Users\\Petr\\AppData\\Local\\Programs\\Python\\Python310\\lib\\site-packages\\keras\\src\\backend.py:873: The name tf.get_default_graph is deprecated. Please use tf.compat.v1.get_default_graph instead.\n",
      "\n",
      "WARNING:tensorflow:From C:\\Users\\Petr\\AppData\\Local\\Programs\\Python\\Python310\\lib\\site-packages\\keras\\src\\layers\\pooling\\max_pooling2d.py:161: The name tf.nn.max_pool is deprecated. Please use tf.nn.max_pool2d instead.\n",
      "\n"
     ]
    }
   ],
   "source": [
    "model = tf.keras.models.Sequential([\n",
    "    tf.keras.layers.Conv2D(32, kernel_size=(3,3), input_shape = (28,28,1), activation='relu'),\n",
    "    tf.keras.layers.MaxPooling2D(2,2),\n",
    "    tf.keras.layers.Conv2D(64, kernel_size=(3,3), activation='relu'),\n",
    "    tf.keras.layers.MaxPooling2D(2,2),\n",
    "    tf.keras.layers.Flatten(),\n",
    "    tf.keras.layers.Dense(128, activation='relu'),\n",
    "    tf.keras.layers.Dropout(0.3),\n",
    "    tf.keras.layers.Dense(10, activation='softmax')\n",
    "])\n"
   ]
  },
  {
   "cell_type": "code",
   "execution_count": 9,
   "id": "d6ae1368-e6c4-4156-b5f2-78473f37d7cb",
   "metadata": {},
   "outputs": [
    {
     "name": "stdout",
     "output_type": "stream",
     "text": [
      "Model: \"sequential\"\n",
      "_________________________________________________________________\n",
      " Layer (type)                Output Shape              Param #   \n",
      "=================================================================\n",
      " conv2d (Conv2D)             (None, 26, 26, 32)        320       \n",
      "                                                                 \n",
      " max_pooling2d (MaxPooling2  (None, 13, 13, 32)        0         \n",
      " D)                                                              \n",
      "                                                                 \n",
      " conv2d_1 (Conv2D)           (None, 11, 11, 64)        18496     \n",
      "                                                                 \n",
      " max_pooling2d_1 (MaxPoolin  (None, 5, 5, 64)          0         \n",
      " g2D)                                                            \n",
      "                                                                 \n",
      " flatten (Flatten)           (None, 1600)              0         \n",
      "                                                                 \n",
      " dense (Dense)               (None, 128)               204928    \n",
      "                                                                 \n",
      " dropout (Dropout)           (None, 128)               0         \n",
      "                                                                 \n",
      " dense_1 (Dense)             (None, 10)                1290      \n",
      "                                                                 \n",
      "=================================================================\n",
      "Total params: 225034 (879.04 KB)\n",
      "Trainable params: 225034 (879.04 KB)\n",
      "Non-trainable params: 0 (0.00 Byte)\n",
      "_________________________________________________________________\n"
     ]
    }
   ],
   "source": [
    "model.summary()"
   ]
  },
  {
   "cell_type": "code",
   "execution_count": 10,
   "id": "92f80d75-c0de-4164-95af-fcc0f086ef53",
   "metadata": {},
   "outputs": [
    {
     "name": "stdout",
     "output_type": "stream",
     "text": [
      "WARNING:tensorflow:From C:\\Users\\Petr\\AppData\\Local\\Programs\\Python\\Python310\\lib\\site-packages\\keras\\src\\optimizers\\__init__.py:309: The name tf.train.Optimizer is deprecated. Please use tf.compat.v1.train.Optimizer instead.\n",
      "\n",
      "Epoch 1/50\n",
      "WARNING:tensorflow:From C:\\Users\\Petr\\AppData\\Local\\Programs\\Python\\Python310\\lib\\site-packages\\keras\\src\\utils\\tf_utils.py:492: The name tf.ragged.RaggedTensorValue is deprecated. Please use tf.compat.v1.ragged.RaggedTensorValue instead.\n",
      "\n",
      "WARNING:tensorflow:From C:\\Users\\Petr\\AppData\\Local\\Programs\\Python\\Python310\\lib\\site-packages\\keras\\src\\engine\\base_layer_utils.py:384: The name tf.executing_eagerly_outside_functions is deprecated. Please use tf.compat.v1.executing_eagerly_outside_functions instead.\n",
      "\n",
      "296/296 [==============================] - 4s 11ms/step - loss: 0.3036 - accuracy: 0.9083 - val_loss: 0.0813 - val_accuracy: 0.9721\n",
      "Epoch 2/50\n",
      "296/296 [==============================] - 3s 10ms/step - loss: 0.0839 - accuracy: 0.9737 - val_loss: 0.0597 - val_accuracy: 0.9800\n",
      "Epoch 3/50\n",
      "296/296 [==============================] - 3s 11ms/step - loss: 0.0604 - accuracy: 0.9816 - val_loss: 0.0409 - val_accuracy: 0.9871\n",
      "Epoch 4/50\n",
      "296/296 [==============================] - 3s 10ms/step - loss: 0.0486 - accuracy: 0.9850 - val_loss: 0.0351 - val_accuracy: 0.9881\n",
      "Epoch 5/50\n",
      "296/296 [==============================] - 3s 10ms/step - loss: 0.0393 - accuracy: 0.9877 - val_loss: 0.0448 - val_accuracy: 0.9857\n",
      "Epoch 6/50\n",
      "296/296 [==============================] - 3s 10ms/step - loss: 0.0304 - accuracy: 0.9900 - val_loss: 0.0319 - val_accuracy: 0.9883\n",
      "Epoch 7/50\n",
      "296/296 [==============================] - 3s 10ms/step - loss: 0.0277 - accuracy: 0.9916 - val_loss: 0.0321 - val_accuracy: 0.9890\n",
      "Epoch 8/50\n",
      "296/296 [==============================] - 3s 10ms/step - loss: 0.0263 - accuracy: 0.9917 - val_loss: 0.0301 - val_accuracy: 0.9900\n",
      "Epoch 9/50\n",
      "296/296 [==============================] - 3s 10ms/step - loss: 0.0209 - accuracy: 0.9937 - val_loss: 0.0289 - val_accuracy: 0.9893\n",
      "Epoch 10/50\n",
      "296/296 [==============================] - 3s 11ms/step - loss: 0.0188 - accuracy: 0.9935 - val_loss: 0.0371 - val_accuracy: 0.9886\n",
      "Epoch 11/50\n",
      "296/296 [==============================] - 3s 11ms/step - loss: 0.0161 - accuracy: 0.9946 - val_loss: 0.0301 - val_accuracy: 0.9905\n",
      "Epoch 12/50\n",
      "296/296 [==============================] - 3s 10ms/step - loss: 0.0155 - accuracy: 0.9946 - val_loss: 0.0275 - val_accuracy: 0.9924\n",
      "Epoch 13/50\n",
      "296/296 [==============================] - 3s 10ms/step - loss: 0.0153 - accuracy: 0.9952 - val_loss: 0.0310 - val_accuracy: 0.9917\n",
      "Epoch 14/50\n",
      "296/296 [==============================] - 3s 10ms/step - loss: 0.0130 - accuracy: 0.9956 - val_loss: 0.0441 - val_accuracy: 0.9881\n",
      "Epoch 15/50\n",
      "296/296 [==============================] - 3s 11ms/step - loss: 0.0127 - accuracy: 0.9959 - val_loss: 0.0343 - val_accuracy: 0.9902\n",
      "Epoch 16/50\n",
      "296/296 [==============================] - 3s 11ms/step - loss: 0.0094 - accuracy: 0.9966 - val_loss: 0.0390 - val_accuracy: 0.9910\n",
      "Epoch 17/50\n",
      "296/296 [==============================] - 3s 11ms/step - loss: 0.0096 - accuracy: 0.9969 - val_loss: 0.0297 - val_accuracy: 0.9917\n",
      "Epoch 18/50\n",
      "296/296 [==============================] - 3s 11ms/step - loss: 0.0080 - accuracy: 0.9971 - val_loss: 0.0340 - val_accuracy: 0.9907\n",
      "Epoch 19/50\n",
      "296/296 [==============================] - 3s 12ms/step - loss: 0.0096 - accuracy: 0.9967 - val_loss: 0.0343 - val_accuracy: 0.9910\n",
      "Epoch 20/50\n",
      "296/296 [==============================] - 4s 12ms/step - loss: 0.0087 - accuracy: 0.9971 - val_loss: 0.0356 - val_accuracy: 0.9907\n",
      "Epoch 21/50\n",
      "296/296 [==============================] - 3s 11ms/step - loss: 0.0074 - accuracy: 0.9974 - val_loss: 0.0398 - val_accuracy: 0.9912\n",
      "Epoch 22/50\n",
      "296/296 [==============================] - 3s 11ms/step - loss: 0.0071 - accuracy: 0.9977 - val_loss: 0.0498 - val_accuracy: 0.9879\n",
      "Epoch 23/50\n",
      "296/296 [==============================] - 4s 14ms/step - loss: 0.0080 - accuracy: 0.9972 - val_loss: 0.0402 - val_accuracy: 0.9905\n",
      "Epoch 24/50\n",
      "296/296 [==============================] - 4s 14ms/step - loss: 0.0071 - accuracy: 0.9976 - val_loss: 0.0328 - val_accuracy: 0.9912\n",
      "Epoch 25/50\n",
      "296/296 [==============================] - 3s 12ms/step - loss: 0.0066 - accuracy: 0.9974 - val_loss: 0.0626 - val_accuracy: 0.9876\n",
      "Epoch 26/50\n",
      "296/296 [==============================] - 3s 12ms/step - loss: 0.0066 - accuracy: 0.9978 - val_loss: 0.0290 - val_accuracy: 0.9936\n",
      "Epoch 27/50\n",
      "296/296 [==============================] - 4s 12ms/step - loss: 0.0056 - accuracy: 0.9983 - val_loss: 0.0311 - val_accuracy: 0.9926\n",
      "Epoch 28/50\n",
      "296/296 [==============================] - 4s 12ms/step - loss: 0.0055 - accuracy: 0.9981 - val_loss: 0.0392 - val_accuracy: 0.9919\n",
      "Epoch 29/50\n",
      "296/296 [==============================] - 3s 11ms/step - loss: 0.0056 - accuracy: 0.9978 - val_loss: 0.0408 - val_accuracy: 0.9910\n",
      "Epoch 30/50\n",
      "296/296 [==============================] - 3s 11ms/step - loss: 0.0044 - accuracy: 0.9986 - val_loss: 0.0420 - val_accuracy: 0.9929\n",
      "Epoch 31/50\n",
      "296/296 [==============================] - 3s 11ms/step - loss: 0.0045 - accuracy: 0.9984 - val_loss: 0.0345 - val_accuracy: 0.9933\n",
      "Epoch 32/50\n",
      "296/296 [==============================] - 3s 11ms/step - loss: 0.0053 - accuracy: 0.9982 - val_loss: 0.0321 - val_accuracy: 0.9926\n",
      "Epoch 33/50\n",
      "296/296 [==============================] - 3s 11ms/step - loss: 0.0035 - accuracy: 0.9989 - val_loss: 0.0369 - val_accuracy: 0.9933\n",
      "Epoch 34/50\n",
      "296/296 [==============================] - 3s 11ms/step - loss: 0.0031 - accuracy: 0.9990 - val_loss: 0.0449 - val_accuracy: 0.9907\n",
      "Epoch 35/50\n",
      "296/296 [==============================] - 3s 11ms/step - loss: 0.0040 - accuracy: 0.9986 - val_loss: 0.0394 - val_accuracy: 0.9921\n",
      "Epoch 36/50\n",
      "296/296 [==============================] - 3s 11ms/step - loss: 0.0078 - accuracy: 0.9974 - val_loss: 0.0348 - val_accuracy: 0.9924\n",
      "Epoch 37/50\n",
      "296/296 [==============================] - 3s 12ms/step - loss: 0.0029 - accuracy: 0.9990 - val_loss: 0.0366 - val_accuracy: 0.9921\n",
      "Epoch 38/50\n",
      "296/296 [==============================] - 4s 12ms/step - loss: 0.0037 - accuracy: 0.9987 - val_loss: 0.0366 - val_accuracy: 0.9931\n",
      "Epoch 39/50\n",
      "296/296 [==============================] - 3s 12ms/step - loss: 0.0032 - accuracy: 0.9989 - val_loss: 0.0408 - val_accuracy: 0.9926\n",
      "Epoch 40/50\n",
      "296/296 [==============================] - 4s 12ms/step - loss: 0.0031 - accuracy: 0.9992 - val_loss: 0.0362 - val_accuracy: 0.9914\n",
      "Epoch 41/50\n",
      "296/296 [==============================] - 3s 12ms/step - loss: 0.0030 - accuracy: 0.9991 - val_loss: 0.0403 - val_accuracy: 0.9936\n",
      "Epoch 42/50\n",
      "296/296 [==============================] - 3s 12ms/step - loss: 0.0027 - accuracy: 0.9989 - val_loss: 0.0515 - val_accuracy: 0.9926\n",
      "Epoch 43/50\n",
      "296/296 [==============================] - 4s 12ms/step - loss: 0.0037 - accuracy: 0.9988 - val_loss: 0.0507 - val_accuracy: 0.9921\n",
      "Epoch 44/50\n",
      "296/296 [==============================] - 4s 12ms/step - loss: 0.0047 - accuracy: 0.9984 - val_loss: 0.0480 - val_accuracy: 0.9910\n",
      "Epoch 45/50\n",
      "296/296 [==============================] - 3s 11ms/step - loss: 0.0023 - accuracy: 0.9992 - val_loss: 0.0500 - val_accuracy: 0.9912\n",
      "Epoch 46/50\n",
      "296/296 [==============================] - 3s 11ms/step - loss: 0.0032 - accuracy: 0.9988 - val_loss: 0.0390 - val_accuracy: 0.9936\n",
      "Epoch 47/50\n",
      "296/296 [==============================] - 3s 11ms/step - loss: 0.0036 - accuracy: 0.9987 - val_loss: 0.0391 - val_accuracy: 0.9907\n",
      "Epoch 48/50\n",
      "296/296 [==============================] - 3s 11ms/step - loss: 0.0032 - accuracy: 0.9990 - val_loss: 0.0499 - val_accuracy: 0.9910\n",
      "Epoch 49/50\n",
      "296/296 [==============================] - 3s 11ms/step - loss: 0.0023 - accuracy: 0.9993 - val_loss: 0.0566 - val_accuracy: 0.9912\n",
      "Epoch 50/50\n",
      "296/296 [==============================] - 3s 11ms/step - loss: 0.0037 - accuracy: 0.9989 - val_loss: 0.0420 - val_accuracy: 0.9914\n"
     ]
    }
   ],
   "source": [
    "model.compile(loss='categorical_crossentropy',\n",
    "              optimizer = 'adam',\n",
    "              metrics=['accuracy'])\n",
    "history = model.fit(X_train,y_train, epochs = 50, batch_size=128, validation_split=0.1)"
   ]
  },
  {
   "cell_type": "code",
   "execution_count": 11,
   "id": "30180e09-cbed-4faf-9611-0c25796f63b0",
   "metadata": {},
   "outputs": [
    {
     "data": {
      "image/png": "[encoded data removed]",
      "text/plain": [
       "<Figure size 640x480 with 1 Axes>"
      ]
     },
     "metadata": {},
     "output_type": "display_data"
    },
    {
     "data": {
      "text/plain": [
       "<Figure size 640x480 with 0 Axes>"
      ]
     },
     "metadata": {},
     "output_type": "display_data"
    }
   ],
   "source": [
    "# Plot the results\n",
    "acc = history.history['accuracy']\n",
    "val_acc = history.history['val_accuracy']\n",
    "loss = history.history['loss']\n",
    "val_loss = history.history['val_loss']\n",
    "\n",
    "epochs = range(len(acc))\n",
    "\n",
    "plt.plot(epochs, acc, 'r', label='Training accuracy')\n",
    "plt.plot(epochs, val_acc, 'b', label='Validation accuracy')\n",
    "plt.title('Training and validation accuracy')\n",
    "plt.legend(loc=0)\n",
    "plt.figure()\n",
    "\n",
    "plt.show()"
   ]
  },
  {
   "cell_type": "code",
   "execution_count": 12,
   "id": "fdc5123c-9ba8-4d01-9792-514a4a31f173",
   "metadata": {},
   "outputs": [
    {
     "name": "stdout",
     "output_type": "stream",
     "text": [
      "875/875 [==============================] - 1s 1ms/step\n"
     ]
    }
   ],
   "source": [
    "predictions = model.predict(X_test)"
   ]
  },
  {
   "cell_type": "code",
   "execution_count": 13,
   "id": "f44b7c78-4b76-4fa8-9ffd-f5849d6ed506",
   "metadata": {},
   "outputs": [],
   "source": [
    "predicted_labels = predictions.argmax(axis=1)"
   ]
  },
  {
   "cell_type": "code",
   "execution_count": 14,
   "id": "14355d97-6f7e-4293-9621-9459e49b8ad3",
   "metadata": {},
   "outputs": [],
   "source": [
    "submission = pd.DataFrame({'ImageId': range(1, len(predicted_labels) + 1), 'Label': predicted_labels})"
   ]
  }
 ],
 "metadata": {
  "kernelspec": {
   "display_name": "Python 3 (ipykernel)",
   "language": "python",
   "name": "python3"
  },
  "language_info": {
   "codemirror_mode": {
    "name": "ipython",
    "version": 3
   },
   "file_extension": ".py",
   "mimetype": "text/x-python",
   "name": "python",
   "nbconvert_exporter": "python",
   "pygments_lexer": "ipython3",
   "version": "3.10.4"
  }
 },
 "nbformat": 4,
 "nbformat_minor": 5
}
